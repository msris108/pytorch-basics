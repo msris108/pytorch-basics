{
 "cells": [
  {
   "cell_type": "code",
   "execution_count": 3,
   "metadata": {},
   "outputs": [],
   "source": [
    "import torch\n",
    "import torchvision\n",
    "from torchvision.datasets import MNIST"
   ]
  },
  {
   "cell_type": "code",
   "execution_count": 4,
   "metadata": {},
   "outputs": [
    {
     "name": "stdout",
     "output_type": "stream",
     "text": [
      "Downloading http://yann.lecun.com/exdb/mnist/train-images-idx3-ubyte.gz to /MNIST\\raw\\train-images-idx3-ubyte.gz\n"
     ]
    },
    {
     "data": {
      "application/vnd.jupyter.widget-view+json": {
       "model_id": "cbbe4e56f7b74597ab86ebe82a48c180",
       "version_major": 2,
       "version_minor": 0
      },
      "text/plain": [
       "HBox(children=(FloatProgress(value=1.0, bar_style='info', max=1.0), HTML(value='')))"
      ]
     },
     "metadata": {},
     "output_type": "display_data"
    },
    {
     "name": "stdout",
     "output_type": "stream",
     "text": [
      "Extracting /MNIST\\raw\\train-images-idx3-ubyte.gz to /MNIST\\raw\n",
      "Downloading http://yann.lecun.com/exdb/mnist/train-labels-idx1-ubyte.gz to /MNIST\\raw\\train-labels-idx1-ubyte.gz\n"
     ]
    },
    {
     "data": {
      "application/vnd.jupyter.widget-view+json": {
       "model_id": "cf2f97bfeab146bc87bfcf7fada1077a",
       "version_major": 2,
       "version_minor": 0
      },
      "text/plain": [
       "HBox(children=(FloatProgress(value=1.0, bar_style='info', max=1.0), HTML(value='')))"
      ]
     },
     "metadata": {},
     "output_type": "display_data"
    },
    {
     "name": "stdout",
     "output_type": "stream",
     "text": [
      "Extracting /MNIST\\raw\\train-labels-idx1-ubyte.gz to /MNIST\\raw\n",
      "Downloading http://yann.lecun.com/exdb/mnist/t10k-images-idx3-ubyte.gz to /MNIST\\raw\\t10k-images-idx3-ubyte.gz\n"
     ]
    },
    {
     "data": {
      "application/vnd.jupyter.widget-view+json": {
       "model_id": "93870f67c11446fdbe71fb00e18f2099",
       "version_major": 2,
       "version_minor": 0
      },
      "text/plain": [
       "HBox(children=(FloatProgress(value=1.0, bar_style='info', max=1.0), HTML(value='')))"
      ]
     },
     "metadata": {},
     "output_type": "display_data"
    },
    {
     "name": "stdout",
     "output_type": "stream",
     "text": [
      "Extracting /MNIST\\raw\\t10k-images-idx3-ubyte.gz to /MNIST\\raw\n",
      "Downloading http://yann.lecun.com/exdb/mnist/t10k-labels-idx1-ubyte.gz to /MNIST\\raw\\t10k-labels-idx1-ubyte.gz\n"
     ]
    },
    {
     "data": {
      "application/vnd.jupyter.widget-view+json": {
       "model_id": "9fe359035dcc44898f63250f90efbb3e",
       "version_major": 2,
       "version_minor": 0
      },
      "text/plain": [
       "HBox(children=(FloatProgress(value=1.0, bar_style='info', max=1.0), HTML(value='')))"
      ]
     },
     "metadata": {},
     "output_type": "display_data"
    },
    {
     "name": "stdout",
     "output_type": "stream",
     "text": [
      "Extracting /MNIST\\raw\\t10k-labels-idx1-ubyte.gz to /MNIST\\raw\n",
      "Processing...\n"
     ]
    },
    {
     "name": "stderr",
     "output_type": "stream",
     "text": [
      "C:\\Users\\msris\\anaconda3\\lib\\site-packages\\torchvision\\datasets\\mnist.py:469: UserWarning: The given NumPy array is not writeable, and PyTorch does not support non-writeable tensors. This means you can write to the underlying (supposedly non-writeable) NumPy array using the tensor. You may want to copy the array to protect its data or make it writeable before converting it to a tensor. This type of warning will be suppressed for the rest of this program. (Triggered internally at  ..\\torch\\csrc\\utils\\tensor_numpy.cpp:141.)\n",
      "  return torch.from_numpy(parsed.astype(m[2], copy=False)).view(*s)\n"
     ]
    },
    {
     "name": "stdout",
     "output_type": "stream",
     "text": [
      "Done!\n"
     ]
    }
   ],
   "source": [
    "dataset = MNIST(root=\"/\", download=True)"
   ]
  },
  {
   "cell_type": "code",
   "execution_count": 5,
   "metadata": {},
   "outputs": [
    {
     "data": {
      "text/plain": [
       "60000"
      ]
     },
     "execution_count": 5,
     "metadata": {},
     "output_type": "execute_result"
    }
   ],
   "source": [
    "len(dataset)"
   ]
  },
  {
   "cell_type": "code",
   "execution_count": 9,
   "metadata": {},
   "outputs": [],
   "source": [
    "import matplotlib as mlp\n",
    "import matplotlib.pyplot as plt"
   ]
  },
  {
   "cell_type": "code",
   "execution_count": 17,
   "metadata": {},
   "outputs": [],
   "source": [
    "image, label = dataset[0]"
   ]
  },
  {
   "cell_type": "code",
   "execution_count": 20,
   "metadata": {},
   "outputs": [
    {
     "name": "stdout",
     "output_type": "stream",
     "text": [
      "Label: 5\n"
     ]
    },
    {
     "data": {
      "text/plain": [
       "<matplotlib.image.AxesImage at 0x1fd0e5df688>"
      ]
     },
     "execution_count": 20,
     "metadata": {},
     "output_type": "execute_result"
    },
    {
     "data": {
      "image/png": "[encoded data removed]",
      "text/plain": [
       "<Figure size 432x288 with 1 Axes>"
      ]
     },
     "metadata": {
      "needs_background": "light"
     },
     "output_type": "display_data"
    }
   ],
   "source": [
    "print(\"Label: \" + str(label))\n",
    "plt.imshow(image)"
   ]
  },
  {
   "cell_type": "code",
   "execution_count": 21,
   "metadata": {},
   "outputs": [],
   "source": [
    "import torchvision.transforms as transforms "
   ]
  },
  {
   "cell_type": "code",
   "execution_count": 22,
   "metadata": {},
   "outputs": [],
   "source": [
    "dataset = MNIST(root=\"/\",\n",
    "                train=True,\n",
    "               transform=transforms.ToTensor())"
   ]
  },
  {
   "cell_type": "code",
   "execution_count": 23,
   "metadata": {},
   "outputs": [
    {
     "name": "stdout",
     "output_type": "stream",
     "text": [
      "torch.Size([1, 28, 28]) 5\n"
     ]
    }
   ],
   "source": [
    "img_tensor, label = dataset[0]\n",
    "print(img_tensor.shape, label)"
   ]
  },
  {
   "cell_type": "code",
   "execution_count": 30,
   "metadata": {},
   "outputs": [],
   "source": [
    "import numpy as np\n",
    "\n",
    "def split_indices(n, val_pct):\n",
    "    n_val = int(val_pct * n)\n",
    "    idxs = np.random.permutation(n)\n",
    "    return idxs[n_val: ], idxs[:n_val]"
   ]
  },
  {
   "cell_type": "code",
   "execution_count": 31,
   "metadata": {},
   "outputs": [],
   "source": [
    "train_indices, val_indices = split_indices(len(dataset), val_pct=0.15)"
   ]
  },
  {
   "cell_type": "code",
   "execution_count": 33,
   "metadata": {},
   "outputs": [],
   "source": [
    "from torch.utils.data.sampler import SubsetRandomSampler\n",
    "from torch.utils.data.dataloader import DataLoader\n",
    "import torch.nn as nn\n",
    "\n",
    "batch_size = 100\n",
    "\n",
    "train_sampler = SubsetRandomSampler(train_indices)\n",
    "train_loader = DataLoader(dataset,\n",
    "                         batch_size,\n",
    "                         sampler=train_sampler)\n",
    "\n",
    "val_sampler = SubsetRandomSampler(val_indices)\n",
    "val_loader = DataLoader(dataset,\n",
    "                         batch_size,\n",
    "                         sampler=val_sampler)"
   ]
  },
  {
   "cell_type": "code",
   "execution_count": 45,
   "metadata": {},
   "outputs": [],
   "source": [
    "class MNIST_model(nn.Module):\n",
    "    def __init__(self, input_size, num_classes):\n",
    "        super().__init__()\n",
    "        self.linear = nn.Linear(input_size, num_classes)\n",
    "        \n",
    "    def forward(self, xb):\n",
    "        xb = xb.reshape(-1, 28*28)\n",
    "        out = self.linear(xb)\n",
    "        return out\n",
    "\n",
    "model = MNIST_model(784, 10)"
   ]
  },
  {
   "cell_type": "code",
   "execution_count": 48,
   "metadata": {},
   "outputs": [
    {
     "data": {
      "text/plain": [
       "[Parameter containing:\n",
       " tensor([[-0.0128,  0.0101, -0.0325,  ..., -0.0024, -0.0122,  0.0223],\n",
       "         [ 0.0133,  0.0343, -0.0255,  ..., -0.0236,  0.0013,  0.0028],\n",
       "         [ 0.0278, -0.0287,  0.0149,  ..., -0.0140, -0.0145,  0.0275],\n",
       "         ...,\n",
       "         [ 0.0035,  0.0186,  0.0205,  ..., -0.0023, -0.0120, -0.0287],\n",
       "         [ 0.0047,  0.0104,  0.0097,  ..., -0.0339,  0.0122,  0.0105],\n",
       "         [-0.0213,  0.0102, -0.0328,  ..., -0.0256,  0.0017, -0.0292]],\n",
       "        requires_grad=True),\n",
       " Parameter containing:\n",
       " tensor([ 0.0105,  0.0265,  0.0329,  0.0209,  0.0046,  0.0156,  0.0286,  0.0203,\n",
       "          0.0234, -0.0318], requires_grad=True)]"
      ]
     },
     "execution_count": 48,
     "metadata": {},
     "output_type": "execute_result"
    }
   ],
   "source": [
    "# model.linear.weight.shape\n",
    "# model.linear.bias.shape\n",
    "list(model.parameters())"
   ]
  },
  {
   "cell_type": "code",
   "execution_count": 49,
   "metadata": {},
   "outputs": [],
   "source": [
    "for image, labels in train_loader:\n",
    "    output = model(image)"
   ]
  },
  {
   "cell_type": "code",
   "execution_count": 54,
   "metadata": {},
   "outputs": [
    {
     "data": {
      "text/plain": [
       "tensor([ 0.5539,  0.2884,  0.4914, -0.0421,  0.0274,  0.0878, -0.2473, -0.0946,\n",
       "         0.1805, -0.1825], grad_fn=<SelectBackward>)"
      ]
     },
     "execution_count": 54,
     "metadata": {},
     "output_type": "execute_result"
    }
   ],
   "source": [
    "output.shape"
   ]
  },
  {
   "cell_type": "code",
   "execution_count": 55,
   "metadata": {},
   "outputs": [],
   "source": [
    "import torch.nn.functional as F"
   ]
  },
  {
   "cell_type": "code",
   "execution_count": 56,
   "metadata": {},
   "outputs": [],
   "source": [
    "probs = F.softmax(output, dim = 1)"
   ]
  },
  {
   "cell_type": "code",
   "execution_count": 58,
   "metadata": {},
   "outputs": [],
   "source": [
    "# print(probs[0])\n",
    "max_probs = torch.max(probs, dim = 1)"
   ]
  },
  {
   "cell_type": "code",
   "execution_count": 59,
   "metadata": {},
   "outputs": [
    {
     "name": "stdout",
     "output_type": "stream",
     "text": [
      "torch.return_types.max(\n",
      "values=tensor([0.1294, 0.1512, 0.1163, 0.1553, 0.1294, 0.1560, 0.1386, 0.1426, 0.1454,\n",
      "        0.1273, 0.1468, 0.1228, 0.1366, 0.1369, 0.1416, 0.1316, 0.1323, 0.1346,\n",
      "        0.1532, 0.1400, 0.1401, 0.1332, 0.1534, 0.1419, 0.1337, 0.1248, 0.1223,\n",
      "        0.1268, 0.1538, 0.1295, 0.1657, 0.1352, 0.1295, 0.1142, 0.1476, 0.1262,\n",
      "        0.1310, 0.1517, 0.1414, 0.1291, 0.1420, 0.1539, 0.1630, 0.1346, 0.1511,\n",
      "        0.1496, 0.1647, 0.1704, 0.1238, 0.1247, 0.1684, 0.1137, 0.1175, 0.1291,\n",
      "        0.1215, 0.1450, 0.1384, 0.1242, 0.1468, 0.1183, 0.1161, 0.1279, 0.1379,\n",
      "        0.1339, 0.1191, 0.1667, 0.1328, 0.1141, 0.1423, 0.1249, 0.1217, 0.1353,\n",
      "        0.1301, 0.1242, 0.1137, 0.1383, 0.1306, 0.1463, 0.1220, 0.1238, 0.1341,\n",
      "        0.1257, 0.1509, 0.1258, 0.1243, 0.1428, 0.1214, 0.1163, 0.1279, 0.1218,\n",
      "        0.1423, 0.1510, 0.1262, 0.1215, 0.1258, 0.1546, 0.1692, 0.1706, 0.1355,\n",
      "        0.1451], grad_fn=<MaxBackward0>),\n",
      "indices=tensor([8, 0, 2, 8, 3, 0, 0, 8, 0, 0, 0, 2, 0, 0, 0, 0, 0, 0, 8, 8, 4, 0, 1, 8,\n",
      "        8, 0, 5, 8, 8, 0, 8, 8, 0, 8, 8, 8, 8, 8, 8, 0, 8, 0, 4, 8, 8, 8, 8, 8,\n",
      "        2, 0, 8, 8, 8, 8, 5, 8, 8, 5, 8, 4, 8, 4, 8, 0, 5, 8, 8, 5, 2, 8, 4, 5,\n",
      "        8, 5, 8, 2, 8, 8, 8, 8, 8, 0, 0, 2, 1, 8, 0, 0, 3, 8, 8, 8, 2, 0, 0, 0,\n",
      "        8, 8, 0, 8]))\n"
     ]
    }
   ],
   "source": []
  },
  {
   "cell_type": "code",
   "execution_count": 67,
   "metadata": {},
   "outputs": [
    {
     "data": {
      "text/plain": [
       "tensor([7, 3, 1, 5, 7, 4, 3, 9, 4, 5, 5, 1, 0, 5, 3, 1, 8, 7, 9, 5, 8, 0, 0, 9,\n",
       "        4, 6, 7, 4, 6, 8, 9, 5, 8, 1, 0, 6, 0, 0, 7, 5, 4, 5, 4, 2, 4, 9, 3, 5,\n",
       "        1, 9, 3, 1, 1, 0, 1, 4, 9, 3, 9, 7, 4, 4, 9, 1, 1, 0, 8, 1, 5, 3, 8, 0,\n",
       "        7, 1, 1, 6, 5, 9, 7, 6, 6, 9, 3, 6, 0, 9, 1, 7, 4, 7, 3, 9, 8, 7, 9, 5,\n",
       "        3, 0, 3, 5])"
      ]
     },
     "execution_count": 67,
     "metadata": {},
     "output_type": "execute_result"
    }
   ],
   "source": [
    "labels"
   ]
  },
  {
   "cell_type": "code",
   "execution_count": 72,
   "metadata": {},
   "outputs": [],
   "source": [
    "def accuracy(outputs, labels):\n",
    "    _, preds = torch.max(outputs, dim=1)\n",
    "    return torch.tensor(torch.sum(preds == labels).item() / len(preds))"
   ]
  },
  {
   "cell_type": "code",
   "execution_count": 74,
   "metadata": {},
   "outputs": [
    {
     "name": "stdout",
     "output_type": "stream",
     "text": [
      "tensor(2.3321, grad_fn=<NllLossBackward>)\n"
     ]
    }
   ],
   "source": [
    "loss_fn = F.cross_entropy\n",
    "# Loss for current batch of data\n",
    "loss = loss_fn(output, labels)\n",
    "print(loss)"
   ]
  },
  {
   "cell_type": "code",
   "execution_count": 79,
   "metadata": {},
   "outputs": [],
   "source": [
    "class MnistModel(nn.Module):\n",
    "    def __init__(self, input_size, num_classes):\n",
    "        super().__init__()\n",
    "        self.linear = nn.Linear(input_size, num_classes)\n",
    "        \n",
    "    def forward(self, xb):\n",
    "        xb = xb.reshape(-1, 784)\n",
    "        out = self.linear(xb)\n",
    "        return out\n",
    "    \n",
    "    def training_step(self, batch):\n",
    "        images, labels = batch \n",
    "        out = self(images)                  # Generate predictions\n",
    "        loss = F.cross_entropy(out, labels) # Calculate loss\n",
    "        return loss\n",
    "    \n",
    "    def validation_step(self, batch):\n",
    "        images, labels = batch \n",
    "        out = self(images)                    # Generate predictions\n",
    "        loss = F.cross_entropy(out, labels)   # Calculate loss\n",
    "        acc = accuracy(out, labels)           # Calculate accuracy\n",
    "        return {'val_loss': loss, 'val_acc': acc}\n",
    "        \n",
    "    def validation_epoch_end(self, outputs):\n",
    "        batch_losses = [x['val_loss'] for x in outputs]\n",
    "        epoch_loss = torch.stack(batch_losses).mean()   # Combine losses\n",
    "        batch_accs = [x['val_acc'] for x in outputs]\n",
    "        epoch_acc = torch.stack(batch_accs).mean()      # Combine accuracies\n",
    "        return {'val_loss': epoch_loss.item(), 'val_acc': epoch_acc.item()}\n",
    "    \n",
    "    def epoch_end(self, epoch, result):\n",
    "        print(\"Epoch [{}], val_loss: {:.4f}, val_acc: {:.4f}\".format(epoch, result['val_loss'], result['val_acc']))\n",
    "    \n",
    "model = MnistModel(784, 10)"
   ]
  },
  {
   "cell_type": "code",
   "execution_count": 80,
   "metadata": {},
   "outputs": [],
   "source": [
    "def evaluate(model, val_loader):\n",
    "    outputs = [model.validation_step(batch) for batch in val_loader]\n",
    "    return model.validation_epoch_end(outputs)\n",
    "\n",
    "def fit(epochs, lr, model, train_loader, val_loader, opt_func=torch.optim.SGD):\n",
    "    history = []\n",
    "    optimizer = opt_func(model.parameters(), lr)\n",
    "    for epoch in range(epochs):\n",
    "        # Training Phase \n",
    "        for batch in train_loader:\n",
    "            loss = model.training_step(batch)\n",
    "            loss.backward()\n",
    "            optimizer.step()\n",
    "            optimizer.zero_grad()\n",
    "        # Validation phase\n",
    "        result = evaluate(model, val_loader)\n",
    "        model.epoch_end(epoch, result)\n",
    "        history.append(result)\n",
    "    return history"
   ]
  },
  {
   "cell_type": "code",
   "execution_count": 81,
   "metadata": {},
   "outputs": [
    {
     "data": {
      "text/plain": [
       "{'val_loss': 2.288012742996216, 'val_acc': 0.14122223854064941}"
      ]
     },
     "execution_count": 81,
     "metadata": {},
     "output_type": "execute_result"
    }
   ],
   "source": [
    "result0 = evaluate(model, val_loader)\n",
    "result0"
   ]
  },
  {
   "cell_type": "code",
   "execution_count": 84,
   "metadata": {},
   "outputs": [
    {
     "name": "stdout",
     "output_type": "stream",
     "text": [
      "Epoch [0], val_loss: 1.8385, val_acc: 0.7063\n",
      "Epoch [1], val_loss: 1.5348, val_acc: 0.7714\n",
      "Epoch [2], val_loss: 1.3262, val_acc: 0.7921\n",
      "Epoch [3], val_loss: 1.1790, val_acc: 0.8056\n",
      "Epoch [4], val_loss: 1.0707, val_acc: 0.8133\n",
      "Epoch [5], val_loss: 0.9887, val_acc: 0.8216\n",
      "Epoch [6], val_loss: 0.9243, val_acc: 0.8267\n",
      "Epoch [7], val_loss: 0.8726, val_acc: 0.8312\n",
      "Epoch [8], val_loss: 0.8300, val_acc: 0.8363\n",
      "Epoch [9], val_loss: 0.7943, val_acc: 0.8378\n",
      "Epoch [10], val_loss: 0.7638, val_acc: 0.8401\n",
      "Epoch [11], val_loss: 0.7376, val_acc: 0.8436\n",
      "Epoch [12], val_loss: 0.7147, val_acc: 0.8460\n",
      "Epoch [13], val_loss: 0.6945, val_acc: 0.8490\n",
      "Epoch [14], val_loss: 0.6766, val_acc: 0.8506\n",
      "Epoch [15], val_loss: 0.6605, val_acc: 0.8522\n",
      "Epoch [16], val_loss: 0.6459, val_acc: 0.8544\n",
      "Epoch [17], val_loss: 0.6326, val_acc: 0.8567\n",
      "Epoch [18], val_loss: 0.6206, val_acc: 0.8589\n",
      "Epoch [19], val_loss: 0.6096, val_acc: 0.8607\n",
      "Epoch [20], val_loss: 0.5994, val_acc: 0.8629\n",
      "Epoch [21], val_loss: 0.5901, val_acc: 0.8639\n",
      "Epoch [22], val_loss: 0.5813, val_acc: 0.8644\n",
      "Epoch [23], val_loss: 0.5732, val_acc: 0.8652\n",
      "Epoch [24], val_loss: 0.5656, val_acc: 0.8653\n",
      "Epoch [25], val_loss: 0.5585, val_acc: 0.8662\n",
      "Epoch [26], val_loss: 0.5520, val_acc: 0.8669\n",
      "Epoch [27], val_loss: 0.5456, val_acc: 0.8680\n",
      "Epoch [28], val_loss: 0.5398, val_acc: 0.8687\n",
      "Epoch [29], val_loss: 0.5342, val_acc: 0.8694\n",
      "Epoch [30], val_loss: 0.5289, val_acc: 0.8706\n",
      "Epoch [31], val_loss: 0.5239, val_acc: 0.8718\n",
      "Epoch [32], val_loss: 0.5191, val_acc: 0.8728\n",
      "Epoch [33], val_loss: 0.5146, val_acc: 0.8732\n",
      "Epoch [34], val_loss: 0.5103, val_acc: 0.8731\n",
      "Epoch [35], val_loss: 0.5061, val_acc: 0.8748\n",
      "Epoch [36], val_loss: 0.5022, val_acc: 0.8751\n",
      "Epoch [37], val_loss: 0.4984, val_acc: 0.8754\n",
      "Epoch [38], val_loss: 0.4948, val_acc: 0.8759\n",
      "Epoch [39], val_loss: 0.4914, val_acc: 0.8759\n",
      "Epoch [40], val_loss: 0.4880, val_acc: 0.8766\n",
      "Epoch [41], val_loss: 0.4848, val_acc: 0.8770\n",
      "Epoch [42], val_loss: 0.4818, val_acc: 0.8771\n",
      "Epoch [43], val_loss: 0.4788, val_acc: 0.8778\n",
      "Epoch [44], val_loss: 0.4759, val_acc: 0.8781\n",
      "Epoch [45], val_loss: 0.4732, val_acc: 0.8787\n",
      "Epoch [46], val_loss: 0.4705, val_acc: 0.8800\n",
      "Epoch [47], val_loss: 0.4680, val_acc: 0.8802\n",
      "Epoch [48], val_loss: 0.4655, val_acc: 0.8809\n",
      "Epoch [49], val_loss: 0.4631, val_acc: 0.8812\n",
      "Epoch [50], val_loss: 0.4607, val_acc: 0.8817\n",
      "Epoch [51], val_loss: 0.4585, val_acc: 0.8818\n",
      "Epoch [52], val_loss: 0.4563, val_acc: 0.8826\n",
      "Epoch [53], val_loss: 0.4542, val_acc: 0.8828\n",
      "Epoch [54], val_loss: 0.4521, val_acc: 0.8833\n",
      "Epoch [55], val_loss: 0.4501, val_acc: 0.8838\n",
      "Epoch [56], val_loss: 0.4482, val_acc: 0.8843\n",
      "Epoch [57], val_loss: 0.4463, val_acc: 0.8848\n",
      "Epoch [58], val_loss: 0.4444, val_acc: 0.8853\n",
      "Epoch [59], val_loss: 0.4426, val_acc: 0.8857\n",
      "Epoch [60], val_loss: 0.4409, val_acc: 0.8859\n",
      "Epoch [61], val_loss: 0.4392, val_acc: 0.8864\n",
      "Epoch [62], val_loss: 0.4375, val_acc: 0.8868\n",
      "Epoch [63], val_loss: 0.4359, val_acc: 0.8871\n",
      "Epoch [64], val_loss: 0.4343, val_acc: 0.8874\n",
      "Epoch [65], val_loss: 0.4328, val_acc: 0.8883\n",
      "Epoch [66], val_loss: 0.4313, val_acc: 0.8886\n",
      "Epoch [67], val_loss: 0.4299, val_acc: 0.8887\n",
      "Epoch [68], val_loss: 0.4284, val_acc: 0.8886\n",
      "Epoch [69], val_loss: 0.4270, val_acc: 0.8890\n",
      "Epoch [70], val_loss: 0.4256, val_acc: 0.8893\n",
      "Epoch [71], val_loss: 0.4243, val_acc: 0.8891\n",
      "Epoch [72], val_loss: 0.4230, val_acc: 0.8899\n",
      "Epoch [73], val_loss: 0.4217, val_acc: 0.8902\n",
      "Epoch [74], val_loss: 0.4205, val_acc: 0.8901\n",
      "Epoch [75], val_loss: 0.4193, val_acc: 0.8902\n",
      "Epoch [76], val_loss: 0.4180, val_acc: 0.8904\n",
      "Epoch [77], val_loss: 0.4169, val_acc: 0.8910\n",
      "Epoch [78], val_loss: 0.4157, val_acc: 0.8912\n",
      "Epoch [79], val_loss: 0.4146, val_acc: 0.8913\n",
      "Epoch [80], val_loss: 0.4135, val_acc: 0.8914\n",
      "Epoch [81], val_loss: 0.4124, val_acc: 0.8918\n",
      "Epoch [82], val_loss: 0.4113, val_acc: 0.8919\n",
      "Epoch [83], val_loss: 0.4103, val_acc: 0.8922\n",
      "Epoch [84], val_loss: 0.4092, val_acc: 0.8927\n",
      "Epoch [85], val_loss: 0.4082, val_acc: 0.8928\n",
      "Epoch [86], val_loss: 0.4073, val_acc: 0.8928\n",
      "Epoch [87], val_loss: 0.4063, val_acc: 0.8930\n",
      "Epoch [88], val_loss: 0.4053, val_acc: 0.8933\n",
      "Epoch [89], val_loss: 0.4044, val_acc: 0.8936\n",
      "Epoch [90], val_loss: 0.4035, val_acc: 0.8937\n",
      "Epoch [91], val_loss: 0.4026, val_acc: 0.8938\n",
      "Epoch [92], val_loss: 0.4017, val_acc: 0.8938\n",
      "Epoch [93], val_loss: 0.4008, val_acc: 0.8941\n",
      "Epoch [94], val_loss: 0.3999, val_acc: 0.8946\n",
      "Epoch [95], val_loss: 0.3991, val_acc: 0.8948\n",
      "Epoch [96], val_loss: 0.3983, val_acc: 0.8950\n",
      "Epoch [97], val_loss: 0.3974, val_acc: 0.8957\n",
      "Epoch [98], val_loss: 0.3966, val_acc: 0.8961\n",
      "Epoch [99], val_loss: 0.3958, val_acc: 0.8961\n"
     ]
    },
    {
     "data": {
      "image/png": "[encoded data removed]",
      "text/plain": [
       "<Figure size 432x288 with 1 Axes>"
      ]
     },
     "metadata": {
      "needs_background": "light"
     },
     "output_type": "display_data"
    }
   ],
   "source": [
    "# Replace these values with your results\n",
    "history = fit(100, 0.001, model, train_loader, val_loader)\n",
    "accuracies = [result['val_acc'] for result in history]\n",
    "plt.plot(accuracies, '-x')\n",
    "plt.xlabel('epoch')\n",
    "plt.ylabel('accuracy')\n",
    "plt.title('Accuracy vs. No. of epochs');"
   ]
  },
  {
   "cell_type": "code",
   "execution_count": 88,
   "metadata": {},
   "outputs": [
    {
     "name": "stdout",
     "output_type": "stream",
     "text": [
      "Shape: torch.Size([1, 28, 28])\n",
      "Label: 7\n"
     ]
    },
    {
     "data": {
      "image/png": "[encoded data removed]",
      "text/plain": [
       "<Figure size 432x288 with 1 Axes>"
      ]
     },
     "metadata": {
      "needs_background": "light"
     },
     "output_type": "display_data"
    }
   ],
   "source": [
    "# Define test dataset\n",
    "test_dataset = MNIST(root='/', \n",
    "                     train=False,\n",
    "                     transform=transforms.ToTensor())\n",
    "\n",
    "img, label = test_dataset[0]\n",
    "plt.imshow(img[0], cmap='gray')\n",
    "print('Shape:', img.shape)\n",
    "print('Label:', label)"
   ]
  },
  {
   "cell_type": "code",
   "execution_count": 89,
   "metadata": {},
   "outputs": [
    {
     "name": "stdout",
     "output_type": "stream",
     "text": [
      "Label: 7 , Predicted: 7\n"
     ]
    },
    {
     "data": {
      "image/png": "[encoded data removed]",
      "text/plain": [
       "<Figure size 432x288 with 1 Axes>"
      ]
     },
     "metadata": {
      "needs_background": "light"
     },
     "output_type": "display_data"
    }
   ],
   "source": [
    "def predict_image(img, model):\n",
    "    xb = img.unsqueeze(0)\n",
    "    yb = model(xb)\n",
    "    _, preds  = torch.max(yb, dim=1)\n",
    "    return preds[0].item()\n",
    "\n",
    "# img.unsqueeze simply adds another dimension at the begining of the 1x28x28 tensor,\n",
    "# making it a 1x1x28x28 tensor, which the model views as a batch containing a single image.\n",
    "\n",
    "img, label = test_dataset[0]\n",
    "plt.imshow(img[0], cmap='gray')\n",
    "print('Label:', label, ', Predicted:', predict_image(img, model))"
   ]
  },
  {
   "cell_type": "code",
   "execution_count": null,
   "metadata": {},
   "outputs": [],
   "source": []
  }
 ],
 "metadata": {
  "kernelspec": {
   "display_name": "Python 3",
   "language": "python",
   "name": "python3"
  },
  "language_info": {
   "codemirror_mode": {
    "name": "ipython",
    "version": 3
   },
   "file_extension": ".py",
   "mimetype": "text/x-python",
   "name": "python",
   "nbconvert_exporter": "python",
   "pygments_lexer": "ipython3",
   "version": "3.7.6"
  }
 },
 "nbformat": 4,
 "nbformat_minor": 4
}
